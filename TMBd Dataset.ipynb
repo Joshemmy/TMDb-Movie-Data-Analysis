{
 "cells": [
  {
   "cell_type": "markdown",
   "id": "611ac0c7",
   "metadata": {},
   "source": [
    "# Project: The Movie Database Analysis\n",
    "## Table of Contents\n",
    "<ul>\n",
    "<li><a href=\"#intro\">Introduction</a></li>\n",
    "<li><a href=\"#wrangling\">Data Wrangling</a></li>\n",
    "<li><a href=\"#eda\">Exploratory Data Analysis</a></li>\n",
    "<li><a href=\"#conclusions\">Conclusions</a></li>\n",
    "</ul>"
   ]
  },
  {
   "cell_type": "markdown",
   "id": "18a4b510",
   "metadata": {},
   "source": [
    "<a id='intro'></a>\n",
    "## Introduction\n",
    "\n",
    "### Dataset Description \n",
    "\n",
    "> This data set contains information about 10,000 movies collected from The Movie Database (TMDb), including user ratings and revenue. \n",
    "\n",
    "\n",
    "### Question(s) for Analysis\n",
    "> 1. What year has the most amount of occurrences?\n",
    "> 2. What genres of movie has the longest runtime?\n",
    "> 3. What director has the most movies in a 10year range?\n",
    "> 4. Which directors have had the most profitable movies?\n",
    "\n",
    "\n",
    "\n",
    "\n"
   ]
  },
  {
   "cell_type": "code",
   "execution_count": 4,
   "id": "aebd5919",
   "metadata": {},
   "outputs": [],
   "source": [
    "import numpy as np\n",
    "import pandas as pd\n",
    "import matplotlib.pyplot as plt\n",
    "import seaborn as sns\n",
    "%matplotlib inline"
   ]
  },
  {
   "cell_type": "markdown",
   "id": "c2159fad",
   "metadata": {},
   "source": [
    "<a id='wrangling'></a>\n",
    "## Data Wrangling\n",
    "\n",
    "\n",
    "\n",
    "\n",
    "### General Properties\n"
   ]
  },
  {
   "cell_type": "code",
   "execution_count": 5,
   "id": "f1ce4d55",
   "metadata": {},
   "outputs": [],
   "source": [
    "# Load your data. Perform operations to inspect data\n",
    "df = pd.read_csv(r'C:\\Users\\hp\\Documents\\ALX Files\\First Project\\tmdb_movies.csv')"
   ]
  },
  {
   "cell_type": "code",
   "execution_count": 57,
   "id": "003f566f",
   "metadata": {},
   "outputs": [
    {
     "data": {
      "text/html": [
       "<div>\n",
       "<style scoped>\n",
       "    .dataframe tbody tr th:only-of-type {\n",
       "        vertical-align: middle;\n",
       "    }\n",
       "\n",
       "    .dataframe tbody tr th {\n",
       "        vertical-align: top;\n",
       "    }\n",
       "\n",
       "    .dataframe thead th {\n",
       "        text-align: right;\n",
       "    }\n",
       "</style>\n",
       "<table border=\"1\" class=\"dataframe\">\n",
       "  <thead>\n",
       "    <tr style=\"text-align: right;\">\n",
       "      <th></th>\n",
       "      <th>id</th>\n",
       "      <th>imdb_id</th>\n",
       "      <th>popularity</th>\n",
       "      <th>budget</th>\n",
       "      <th>revenue</th>\n",
       "      <th>original_title</th>\n",
       "      <th>cast</th>\n",
       "      <th>homepage</th>\n",
       "      <th>director</th>\n",
       "      <th>tagline</th>\n",
       "      <th>...</th>\n",
       "      <th>overview</th>\n",
       "      <th>runtime</th>\n",
       "      <th>genres</th>\n",
       "      <th>production_companies</th>\n",
       "      <th>release_date</th>\n",
       "      <th>vote_count</th>\n",
       "      <th>vote_average</th>\n",
       "      <th>release_year</th>\n",
       "      <th>budget_adj</th>\n",
       "      <th>revenue_adj</th>\n",
       "    </tr>\n",
       "  </thead>\n",
       "  <tbody>\n",
       "    <tr>\n",
       "      <th>0</th>\n",
       "      <td>135397</td>\n",
       "      <td>tt0369610</td>\n",
       "      <td>32.985763</td>\n",
       "      <td>150000000</td>\n",
       "      <td>1513528810</td>\n",
       "      <td>Jurassic World</td>\n",
       "      <td>Chris Pratt|Bryce Dallas Howard|Irrfan Khan|Vi...</td>\n",
       "      <td>http://www.jurassicworld.com/</td>\n",
       "      <td>Colin Trevorrow</td>\n",
       "      <td>The park is open.</td>\n",
       "      <td>...</td>\n",
       "      <td>Twenty-two years after the events of Jurassic ...</td>\n",
       "      <td>124</td>\n",
       "      <td>Action|Adventure|Science Fiction|Thriller</td>\n",
       "      <td>Universal Studios|Amblin Entertainment|Legenda...</td>\n",
       "      <td>6/9/15</td>\n",
       "      <td>5562</td>\n",
       "      <td>6.5</td>\n",
       "      <td>2015</td>\n",
       "      <td>1.379999e+08</td>\n",
       "      <td>1.392446e+09</td>\n",
       "    </tr>\n",
       "    <tr>\n",
       "      <th>1</th>\n",
       "      <td>76341</td>\n",
       "      <td>tt1392190</td>\n",
       "      <td>28.419936</td>\n",
       "      <td>150000000</td>\n",
       "      <td>378436354</td>\n",
       "      <td>Mad Max: Fury Road</td>\n",
       "      <td>Tom Hardy|Charlize Theron|Hugh Keays-Byrne|Nic...</td>\n",
       "      <td>http://www.madmaxmovie.com/</td>\n",
       "      <td>George Miller</td>\n",
       "      <td>What a Lovely Day.</td>\n",
       "      <td>...</td>\n",
       "      <td>An apocalyptic story set in the furthest reach...</td>\n",
       "      <td>120</td>\n",
       "      <td>Action|Adventure|Science Fiction|Thriller</td>\n",
       "      <td>Village Roadshow Pictures|Kennedy Miller Produ...</td>\n",
       "      <td>5/13/15</td>\n",
       "      <td>6185</td>\n",
       "      <td>7.1</td>\n",
       "      <td>2015</td>\n",
       "      <td>1.379999e+08</td>\n",
       "      <td>3.481613e+08</td>\n",
       "    </tr>\n",
       "    <tr>\n",
       "      <th>2</th>\n",
       "      <td>262500</td>\n",
       "      <td>tt2908446</td>\n",
       "      <td>13.112507</td>\n",
       "      <td>110000000</td>\n",
       "      <td>295238201</td>\n",
       "      <td>Insurgent</td>\n",
       "      <td>Shailene Woodley|Theo James|Kate Winslet|Ansel...</td>\n",
       "      <td>http://www.thedivergentseries.movie/#insurgent</td>\n",
       "      <td>Robert Schwentke</td>\n",
       "      <td>One Choice Can Destroy You</td>\n",
       "      <td>...</td>\n",
       "      <td>Beatrice Prior must confront her inner demons ...</td>\n",
       "      <td>119</td>\n",
       "      <td>Adventure|Science Fiction|Thriller</td>\n",
       "      <td>Summit Entertainment|Mandeville Films|Red Wago...</td>\n",
       "      <td>3/18/15</td>\n",
       "      <td>2480</td>\n",
       "      <td>6.3</td>\n",
       "      <td>2015</td>\n",
       "      <td>1.012000e+08</td>\n",
       "      <td>2.716190e+08</td>\n",
       "    </tr>\n",
       "  </tbody>\n",
       "</table>\n",
       "<p>3 rows × 21 columns</p>\n",
       "</div>"
      ],
      "text/plain": [
       "       id    imdb_id  popularity     budget     revenue      original_title  \\\n",
       "0  135397  tt0369610   32.985763  150000000  1513528810      Jurassic World   \n",
       "1   76341  tt1392190   28.419936  150000000   378436354  Mad Max: Fury Road   \n",
       "2  262500  tt2908446   13.112507  110000000   295238201           Insurgent   \n",
       "\n",
       "                                                cast  \\\n",
       "0  Chris Pratt|Bryce Dallas Howard|Irrfan Khan|Vi...   \n",
       "1  Tom Hardy|Charlize Theron|Hugh Keays-Byrne|Nic...   \n",
       "2  Shailene Woodley|Theo James|Kate Winslet|Ansel...   \n",
       "\n",
       "                                         homepage          director  \\\n",
       "0                   http://www.jurassicworld.com/   Colin Trevorrow   \n",
       "1                     http://www.madmaxmovie.com/     George Miller   \n",
       "2  http://www.thedivergentseries.movie/#insurgent  Robert Schwentke   \n",
       "\n",
       "                      tagline  ...  \\\n",
       "0           The park is open.  ...   \n",
       "1          What a Lovely Day.  ...   \n",
       "2  One Choice Can Destroy You  ...   \n",
       "\n",
       "                                            overview runtime  \\\n",
       "0  Twenty-two years after the events of Jurassic ...     124   \n",
       "1  An apocalyptic story set in the furthest reach...     120   \n",
       "2  Beatrice Prior must confront her inner demons ...     119   \n",
       "\n",
       "                                      genres  \\\n",
       "0  Action|Adventure|Science Fiction|Thriller   \n",
       "1  Action|Adventure|Science Fiction|Thriller   \n",
       "2         Adventure|Science Fiction|Thriller   \n",
       "\n",
       "                                production_companies release_date vote_count  \\\n",
       "0  Universal Studios|Amblin Entertainment|Legenda...       6/9/15       5562   \n",
       "1  Village Roadshow Pictures|Kennedy Miller Produ...      5/13/15       6185   \n",
       "2  Summit Entertainment|Mandeville Films|Red Wago...      3/18/15       2480   \n",
       "\n",
       "   vote_average  release_year    budget_adj   revenue_adj  \n",
       "0           6.5          2015  1.379999e+08  1.392446e+09  \n",
       "1           7.1          2015  1.379999e+08  3.481613e+08  \n",
       "2           6.3          2015  1.012000e+08  2.716190e+08  \n",
       "\n",
       "[3 rows x 21 columns]"
      ]
     },
     "execution_count": 57,
     "metadata": {},
     "output_type": "execute_result"
    }
   ],
   "source": [
    "# print out a few lines\n",
    "df.head(3)"
   ]
  },
  {
   "cell_type": "markdown",
   "id": "05934f8b",
   "metadata": {},
   "source": [
    "### Data Cleaning"
   ]
  },
  {
   "cell_type": "code",
   "execution_count": 11,
   "id": "dd2df34d",
   "metadata": {},
   "outputs": [
    {
     "data": {
      "text/plain": [
       "(10866, 21)"
      ]
     },
     "execution_count": 11,
     "metadata": {},
     "output_type": "execute_result"
    }
   ],
   "source": [
    "df.shape"
   ]
  },
  {
   "cell_type": "markdown",
   "id": "fd5ef247",
   "metadata": {},
   "source": [
    "There are 10866 rows\n",
    "\n",
    "There are 21 columns"
   ]
  },
  {
   "cell_type": "code",
   "execution_count": 54,
   "id": "36d6e750",
   "metadata": {
    "scrolled": true
   },
   "outputs": [
    {
     "data": {
      "text/plain": [
       "id                         0\n",
       "imdb_id                   10\n",
       "popularity                 0\n",
       "budget                     0\n",
       "revenue                    0\n",
       "original_title             0\n",
       "cast                      76\n",
       "homepage                7930\n",
       "director                  44\n",
       "tagline                 2824\n",
       "keywords                1493\n",
       "overview                   4\n",
       "runtime                    0\n",
       "genres                    23\n",
       "production_companies    1030\n",
       "release_date               0\n",
       "vote_count                 0\n",
       "vote_average               0\n",
       "release_year               0\n",
       "budget_adj                 0\n",
       "revenue_adj                0\n",
       "dtype: int64"
      ]
     },
     "execution_count": 54,
     "metadata": {},
     "output_type": "execute_result"
    }
   ],
   "source": [
    "df.isnull().sum()"
   ]
  },
  {
   "cell_type": "markdown",
   "id": "c0c2135c",
   "metadata": {},
   "source": [
    "There are a null values in 'imdb_id', 'homepage', 'director', 'tagline', 'keywords', 'overview', 'genres', 'production_companies'"
   ]
  },
  {
   "cell_type": "markdown",
   "id": "01bf08a7",
   "metadata": {},
   "source": [
    "We will thereby drop some columns because we wil not be using them in the Exploratory data analysis and also ignore some null values as they may not be influential to our analysis according to our research questions."
   ]
  },
  {
   "cell_type": "code",
   "execution_count": 75,
   "id": "187233a5",
   "metadata": {},
   "outputs": [],
   "source": [
    "df = df.drop(columns = ['imdb_id','homepage','tagline','budget_adj','revenue_adj','cast'])"
   ]
  },
  {
   "cell_type": "markdown",
   "id": "567aa87c",
   "metadata": {},
   "source": [
    "verify the columns available by checking the datatypes"
   ]
  },
  {
   "cell_type": "code",
   "execution_count": 21,
   "id": "ee4d315d",
   "metadata": {},
   "outputs": [
    {
     "data": {
      "text/plain": [
       "id                        int64\n",
       "popularity              float64\n",
       "budget                    int64\n",
       "revenue                   int64\n",
       "original_title           object\n",
       "director                 object\n",
       "keywords                 object\n",
       "overview                 object\n",
       "runtime                   int64\n",
       "genres                   object\n",
       "production_companies     object\n",
       "release_date             object\n",
       "vote_count                int64\n",
       "vote_average            float64\n",
       "release_year              int64\n",
       "dtype: object"
      ]
     },
     "execution_count": 21,
     "metadata": {},
     "output_type": "execute_result"
    }
   ],
   "source": [
    "df.dtypes"
   ]
  },
  {
   "cell_type": "markdown",
   "id": "469b48df",
   "metadata": {},
   "source": [
    "After going through the datatypes, all looks good. But I think I need to change the 'release_date' from string to a date datatype."
   ]
  },
  {
   "cell_type": "code",
   "execution_count": 40,
   "id": "fd9836d4",
   "metadata": {},
   "outputs": [],
   "source": [
    "# changing datatype of the release_date to datetime\n",
    "df['release_date'] = pd.to_datetime(df['release_date'])"
   ]
  },
  {
   "cell_type": "code",
   "execution_count": 41,
   "id": "f593afd2",
   "metadata": {},
   "outputs": [
    {
     "data": {
      "text/plain": [
       "id                               int64\n",
       "popularity                     float64\n",
       "budget                           int64\n",
       "revenue                          int64\n",
       "original_title                  object\n",
       "director                        object\n",
       "keywords                        object\n",
       "overview                        object\n",
       "runtime                          int64\n",
       "genres                          object\n",
       "production_companies            object\n",
       "release_date            datetime64[ns]\n",
       "vote_count                       int64\n",
       "vote_average                   float64\n",
       "release_year                     int64\n",
       "dtype: object"
      ]
     },
     "execution_count": 41,
     "metadata": {},
     "output_type": "execute_result"
    }
   ],
   "source": [
    "# Verify data type change for release_year\n",
    "df.dtypes"
   ]
  },
  {
   "cell_type": "code",
   "execution_count": 321,
   "id": "9920e576",
   "metadata": {
    "scrolled": false
   },
   "outputs": [
    {
     "name": "stdout",
     "output_type": "stream",
     "text": [
      "[2015 2014 1977 2009 2010 1999 2001 2008 2011 2002 1994 2012 2003 1997\n",
      " 2013 1985 2005 2006 2004 1972 1980 2007 1979 1984 1983 1995 1992 1981\n",
      " 1996 2000 1982 1998 1989 1991 1988 1987 1968 1974 1975 1962 1964 1971\n",
      " 1990 1961 1960 1976 1993 1967 1963 1986 1973 1970 1965 1969 1978 1966]\n",
      "56 years\n"
     ]
    }
   ],
   "source": [
    "### check the amount of years availale in the dataset\n",
    "print(df.release_year.unique())\n",
    "print(df.release_year.nunique(),\"years\")"
   ]
  },
  {
   "cell_type": "markdown",
   "id": "200598a0",
   "metadata": {},
   "source": [
    "<a id='eda'></a>\n",
    "## Exploratory Data Analysis\n",
    "\n",
    "\n",
    "\n",
    "\n",
    "### What year has the most amount of occurrences?"
   ]
  },
  {
   "cell_type": "markdown",
   "id": "5795d7dd",
   "metadata": {},
   "source": [
    "In this research question, we want to examine the year that has the most occurrences in the dataset, which undoubtedly means that more movies were release in this year more than any other year."
   ]
  },
  {
   "cell_type": "code",
   "execution_count": 50,
   "id": "feddc4a9",
   "metadata": {},
   "outputs": [
    {
     "data": {
      "text/plain": [
       "0"
      ]
     },
     "execution_count": 50,
     "metadata": {},
     "output_type": "execute_result"
    }
   ],
   "source": [
    "# validating the column for null values\n",
    "df.isnull().sum().release_year"
   ]
  },
  {
   "cell_type": "code",
   "execution_count": 51,
   "id": "3f551351",
   "metadata": {},
   "outputs": [
    {
     "data": {
      "text/plain": [
       "dtype('int64')"
      ]
     },
     "execution_count": 51,
     "metadata": {},
     "output_type": "execute_result"
    }
   ],
   "source": [
    "# validating the column's datatype\n",
    "df.release_year.dtype"
   ]
  },
  {
   "cell_type": "code",
   "execution_count": 52,
   "id": "792c6a48",
   "metadata": {
    "scrolled": false
   },
   "outputs": [
    {
     "data": {
      "text/plain": [
       "2014    700\n",
       "2013    659\n",
       "2015    629\n",
       "2012    588\n",
       "2011    540\n",
       "Name: release_year, dtype: int64"
      ]
     },
     "execution_count": 52,
     "metadata": {},
     "output_type": "execute_result"
    }
   ],
   "source": [
    "# checking for the top 5 years with the most occurrences\n",
    "df['release_year'].value_counts()[:5]"
   ]
  },
  {
   "cell_type": "code",
   "execution_count": 48,
   "id": "8e68d6f2",
   "metadata": {},
   "outputs": [],
   "source": [
    "## creating a function to avoid repetitive code\n",
    "def top_years():\n",
    "   return df['release_year'].value_counts()[:5]"
   ]
  },
  {
   "cell_type": "markdown",
   "id": "4c93f07c",
   "metadata": {},
   "source": [
    "calling the function and also displaying horizontal bar chart to visually present the years with the most occurrences in this dataset"
   ]
  },
  {
   "cell_type": "code",
   "execution_count": 49,
   "id": "6b97e5d3",
   "metadata": {},
   "outputs": [
    {
     "data": {
      "image/png": "[encoded data removed]",
      "text/plain": [
       "<Figure size 504x360 with 1 Axes>"
      ]
     },
     "metadata": {
      "needs_background": "light"
     },
     "output_type": "display_data"
    }
   ],
   "source": [
    "top_years().plot(kind='barh', figsize=(7,5), title='Release Year With the Most Occurrences')\n",
    "plt.xlabel('Number of Occurrences')\n",
    "plt.ylabel('Release Years')\n",
    "plt.show()"
   ]
  },
  {
   "cell_type": "markdown",
   "id": "39d62acd",
   "metadata": {},
   "source": [
    "### What genre of movie has the longest runtime?"
   ]
  },
  {
   "cell_type": "markdown",
   "id": "efcd0d5d",
   "metadata": {},
   "source": [
    "According to this research question, we want to see the genres of the movies that has the longest run\n",
    "time."
   ]
  },
  {
   "cell_type": "code",
   "execution_count": 16,
   "id": "f2af36e8",
   "metadata": {},
   "outputs": [],
   "source": [
    "run_df = df[['genres','runtime']]"
   ]
  },
  {
   "cell_type": "code",
   "execution_count": 181,
   "id": "ad682a44",
   "metadata": {},
   "outputs": [],
   "source": [
    "#recalibreate the index\n",
    "run_df.set_index('genres',inplace=True)"
   ]
  },
  {
   "cell_type": "code",
   "execution_count": 195,
   "id": "36e4e826",
   "metadata": {},
   "outputs": [
    {
     "data": {
      "text/plain": [
       "(10866, 1)"
      ]
     },
     "execution_count": 195,
     "metadata": {},
     "output_type": "execute_result"
    }
   ],
   "source": [
    "run_df.shape"
   ]
  },
  {
   "cell_type": "code",
   "execution_count": 182,
   "id": "ccaa2f62",
   "metadata": {},
   "outputs": [
    {
     "data": {
      "text/html": [
       "<div>\n",
       "<style scoped>\n",
       "    .dataframe tbody tr th:only-of-type {\n",
       "        vertical-align: middle;\n",
       "    }\n",
       "\n",
       "    .dataframe tbody tr th {\n",
       "        vertical-align: top;\n",
       "    }\n",
       "\n",
       "    .dataframe thead th {\n",
       "        text-align: right;\n",
       "    }\n",
       "</style>\n",
       "<table border=\"1\" class=\"dataframe\">\n",
       "  <thead>\n",
       "    <tr style=\"text-align: right;\">\n",
       "      <th></th>\n",
       "      <th>runtime</th>\n",
       "    </tr>\n",
       "    <tr>\n",
       "      <th>genres</th>\n",
       "      <th></th>\n",
       "    </tr>\n",
       "  </thead>\n",
       "  <tbody>\n",
       "    <tr>\n",
       "      <th>Action|Adventure|Science Fiction|Thriller</th>\n",
       "      <td>124</td>\n",
       "    </tr>\n",
       "    <tr>\n",
       "      <th>Action|Adventure|Science Fiction|Thriller</th>\n",
       "      <td>120</td>\n",
       "    </tr>\n",
       "    <tr>\n",
       "      <th>Adventure|Science Fiction|Thriller</th>\n",
       "      <td>119</td>\n",
       "    </tr>\n",
       "    <tr>\n",
       "      <th>Action|Adventure|Science Fiction|Fantasy</th>\n",
       "      <td>136</td>\n",
       "    </tr>\n",
       "    <tr>\n",
       "      <th>Action|Crime|Thriller</th>\n",
       "      <td>137</td>\n",
       "    </tr>\n",
       "  </tbody>\n",
       "</table>\n",
       "</div>"
      ],
      "text/plain": [
       "                                           runtime\n",
       "genres                                            \n",
       "Action|Adventure|Science Fiction|Thriller      124\n",
       "Action|Adventure|Science Fiction|Thriller      120\n",
       "Adventure|Science Fiction|Thriller             119\n",
       "Action|Adventure|Science Fiction|Fantasy       136\n",
       "Action|Crime|Thriller                          137"
      ]
     },
     "execution_count": 182,
     "metadata": {},
     "output_type": "execute_result"
    }
   ],
   "source": [
    "run_df.head(5)"
   ]
  },
  {
   "cell_type": "code",
   "execution_count": 194,
   "id": "d01f4c84",
   "metadata": {},
   "outputs": [
    {
     "data": {
      "text/plain": [
       "runtime    0\n",
       "dtype: int64"
      ]
     },
     "execution_count": 194,
     "metadata": {},
     "output_type": "execute_result"
    }
   ],
   "source": [
    "run_df.isnull().sum()"
   ]
  },
  {
   "cell_type": "code",
   "execution_count": 19,
   "id": "d80b4da1",
   "metadata": {
    "scrolled": false
   },
   "outputs": [
    {
     "data": {
      "text/html": [
       "<div>\n",
       "<style scoped>\n",
       "    .dataframe tbody tr th:only-of-type {\n",
       "        vertical-align: middle;\n",
       "    }\n",
       "\n",
       "    .dataframe tbody tr th {\n",
       "        vertical-align: top;\n",
       "    }\n",
       "\n",
       "    .dataframe thead th {\n",
       "        text-align: right;\n",
       "    }\n",
       "</style>\n",
       "<table border=\"1\" class=\"dataframe\">\n",
       "  <thead>\n",
       "    <tr style=\"text-align: right;\">\n",
       "      <th></th>\n",
       "      <th>runtime</th>\n",
       "    </tr>\n",
       "  </thead>\n",
       "  <tbody>\n",
       "    <tr>\n",
       "      <th>count</th>\n",
       "      <td>10866.000000</td>\n",
       "    </tr>\n",
       "    <tr>\n",
       "      <th>mean</th>\n",
       "      <td>102.070863</td>\n",
       "    </tr>\n",
       "    <tr>\n",
       "      <th>std</th>\n",
       "      <td>31.381405</td>\n",
       "    </tr>\n",
       "    <tr>\n",
       "      <th>min</th>\n",
       "      <td>0.000000</td>\n",
       "    </tr>\n",
       "    <tr>\n",
       "      <th>25%</th>\n",
       "      <td>90.000000</td>\n",
       "    </tr>\n",
       "    <tr>\n",
       "      <th>50%</th>\n",
       "      <td>99.000000</td>\n",
       "    </tr>\n",
       "    <tr>\n",
       "      <th>75%</th>\n",
       "      <td>111.000000</td>\n",
       "    </tr>\n",
       "    <tr>\n",
       "      <th>max</th>\n",
       "      <td>900.000000</td>\n",
       "    </tr>\n",
       "  </tbody>\n",
       "</table>\n",
       "</div>"
      ],
      "text/plain": [
       "            runtime\n",
       "count  10866.000000\n",
       "mean     102.070863\n",
       "std       31.381405\n",
       "min        0.000000\n",
       "25%       90.000000\n",
       "50%       99.000000\n",
       "75%      111.000000\n",
       "max      900.000000"
      ]
     },
     "execution_count": 19,
     "metadata": {},
     "output_type": "execute_result"
    }
   ],
   "source": [
    "run_df.describe()"
   ]
  },
  {
   "cell_type": "markdown",
   "id": "67e1cbd9",
   "metadata": {},
   "source": [
    "Even after checking for the properties of runtime, we could not ascertain the values of the genres with the longest runtime, we had to make use of analytical thinking to determine the top genres with the longest runtime. "
   ]
  },
  {
   "cell_type": "code",
   "execution_count": 191,
   "id": "1312a26f",
   "metadata": {
    "scrolled": false
   },
   "outputs": [
    {
     "data": {
      "text/html": [
       "<div>\n",
       "<style scoped>\n",
       "    .dataframe tbody tr th:only-of-type {\n",
       "        vertical-align: middle;\n",
       "    }\n",
       "\n",
       "    .dataframe tbody tr th {\n",
       "        vertical-align: top;\n",
       "    }\n",
       "\n",
       "    .dataframe thead th {\n",
       "        text-align: right;\n",
       "    }\n",
       "</style>\n",
       "<table border=\"1\" class=\"dataframe\">\n",
       "  <thead>\n",
       "    <tr style=\"text-align: right;\">\n",
       "      <th></th>\n",
       "      <th>runtime</th>\n",
       "    </tr>\n",
       "    <tr>\n",
       "      <th>genres</th>\n",
       "      <th></th>\n",
       "    </tr>\n",
       "  </thead>\n",
       "  <tbody>\n",
       "    <tr>\n",
       "      <th>War|Drama|Action|Adventure|History</th>\n",
       "      <td>540</td>\n",
       "    </tr>\n",
       "    <tr>\n",
       "      <th>Action|Drama|War</th>\n",
       "      <td>705</td>\n",
       "    </tr>\n",
       "    <tr>\n",
       "      <th>History|Drama</th>\n",
       "      <td>501</td>\n",
       "    </tr>\n",
       "    <tr>\n",
       "      <th>Documentary</th>\n",
       "      <td>900</td>\n",
       "    </tr>\n",
       "    <tr>\n",
       "      <th>Science Fiction</th>\n",
       "      <td>877</td>\n",
       "    </tr>\n",
       "    <tr>\n",
       "      <th>Documentary</th>\n",
       "      <td>566</td>\n",
       "    </tr>\n",
       "    <tr>\n",
       "      <th>Drama|History|Western</th>\n",
       "      <td>561</td>\n",
       "    </tr>\n",
       "    <tr>\n",
       "      <th>Documentary</th>\n",
       "      <td>550</td>\n",
       "    </tr>\n",
       "  </tbody>\n",
       "</table>\n",
       "</div>"
      ],
      "text/plain": [
       "                                    runtime\n",
       "genres                                     \n",
       "War|Drama|Action|Adventure|History      540\n",
       "Action|Drama|War                        705\n",
       "History|Drama                           501\n",
       "Documentary                             900\n",
       "Science Fiction                         877\n",
       "Documentary                             566\n",
       "Drama|History|Western                   561\n",
       "Documentary                             550"
      ]
     },
     "execution_count": 191,
     "metadata": {},
     "output_type": "execute_result"
    }
   ],
   "source": [
    "run_df[run_df.iloc[:,0]>500]"
   ]
  },
  {
   "cell_type": "markdown",
   "id": "d7d827ea",
   "metadata": {},
   "source": [
    "'Documentary'   has the longest runtime of 900mins. Which is 15 hours. That is mindblowing."
   ]
  },
  {
   "cell_type": "code",
   "execution_count": 330,
   "id": "4cdb6168",
   "metadata": {
    "scrolled": true
   },
   "outputs": [
    {
     "data": {
      "image/png": "[encoded data removed]",
      "text/plain": [
       "<Figure size 504x360 with 1 Axes>"
      ]
     },
     "metadata": {
      "needs_background": "light"
     },
     "output_type": "display_data"
    }
   ],
   "source": [
    "run_df[run_df.iloc[:,0]>500].plot(kind='barh', figsize=(7,5), title=\"Genre with the Longest Runtime\")\n",
    "plt.xlabel('Runtime')\n",
    "plt.ylabel('Genres')\n",
    "plt.show()"
   ]
  },
  {
   "cell_type": "markdown",
   "id": "caf1da7b",
   "metadata": {},
   "source": [
    "### What director has the most movies in the last 10years?"
   ]
  },
  {
   "cell_type": "markdown",
   "id": "334ff953",
   "metadata": {},
   "source": [
    "In this research question, would be checking the director that has released the most movies in a 10 years margin, we will consider from the latest release year"
   ]
  },
  {
   "cell_type": "markdown",
   "id": "2a181c9b",
   "metadata": {},
   "source": [
    "We know that the most recent year in the dataset is '2015', we proceed to extract the most recent 10 years into a new dataframe. Which is from '2006' to '2015'"
   ]
  },
  {
   "cell_type": "code",
   "execution_count": 99,
   "id": "c452dff8",
   "metadata": {},
   "outputs": [],
   "source": [
    "dir_df = df.query('release_year > 2005')"
   ]
  },
  {
   "cell_type": "code",
   "execution_count": 100,
   "id": "881da857",
   "metadata": {
    "scrolled": true
   },
   "outputs": [
    {
     "data": {
      "text/html": [
       "<div>\n",
       "<style scoped>\n",
       "    .dataframe tbody tr th:only-of-type {\n",
       "        vertical-align: middle;\n",
       "    }\n",
       "\n",
       "    .dataframe tbody tr th {\n",
       "        vertical-align: top;\n",
       "    }\n",
       "\n",
       "    .dataframe thead th {\n",
       "        text-align: right;\n",
       "    }\n",
       "</style>\n",
       "<table border=\"1\" class=\"dataframe\">\n",
       "  <thead>\n",
       "    <tr style=\"text-align: right;\">\n",
       "      <th></th>\n",
       "      <th>id</th>\n",
       "      <th>popularity</th>\n",
       "      <th>budget</th>\n",
       "      <th>revenue</th>\n",
       "      <th>original_title</th>\n",
       "      <th>director</th>\n",
       "      <th>keywords</th>\n",
       "      <th>overview</th>\n",
       "      <th>runtime</th>\n",
       "      <th>genres</th>\n",
       "      <th>production_companies</th>\n",
       "      <th>release_date</th>\n",
       "      <th>vote_count</th>\n",
       "      <th>vote_average</th>\n",
       "      <th>release_year</th>\n",
       "    </tr>\n",
       "  </thead>\n",
       "  <tbody>\n",
       "    <tr>\n",
       "      <th>7815</th>\n",
       "      <td>21943</td>\n",
       "      <td>0.032904</td>\n",
       "      <td>0</td>\n",
       "      <td>0</td>\n",
       "      <td>Ho Voglia Di Te</td>\n",
       "      <td>Luis Prieto</td>\n",
       "      <td>NaN</td>\n",
       "      <td>The film stars Riccardo Scamarcio as a macho t...</td>\n",
       "      <td>106</td>\n",
       "      <td>Romance|Comedy</td>\n",
       "      <td>NaN</td>\n",
       "      <td>3/9/07</td>\n",
       "      <td>38</td>\n",
       "      <td>4.2</td>\n",
       "      <td>2007</td>\n",
       "    </tr>\n",
       "    <tr>\n",
       "      <th>7816</th>\n",
       "      <td>13068</td>\n",
       "      <td>0.027512</td>\n",
       "      <td>0</td>\n",
       "      <td>0</td>\n",
       "      <td>Rocket Science</td>\n",
       "      <td>Jeffrey Blitz</td>\n",
       "      <td>independent film</td>\n",
       "      <td>Hal, a 15-year-old high-school student with a ...</td>\n",
       "      <td>101</td>\n",
       "      <td>Comedy|Drama</td>\n",
       "      <td>HBO Films|W B I Films|Rocket Science Inc.|Duly...</td>\n",
       "      <td>1/19/07</td>\n",
       "      <td>16</td>\n",
       "      <td>6.3</td>\n",
       "      <td>2007</td>\n",
       "    </tr>\n",
       "    <tr>\n",
       "      <th>7817</th>\n",
       "      <td>15261</td>\n",
       "      <td>0.020514</td>\n",
       "      <td>0</td>\n",
       "      <td>0</td>\n",
       "      <td>Bring It On: In It To Win It</td>\n",
       "      <td>Steve Rash</td>\n",
       "      <td>competition|cheerleader|sport|cheerleading|che...</td>\n",
       "      <td>Fourth 'Bring It On' movie is set at a cheerle...</td>\n",
       "      <td>90</td>\n",
       "      <td>Comedy</td>\n",
       "      <td>Universal Pictures|Beacon Communications</td>\n",
       "      <td>11/10/07</td>\n",
       "      <td>70</td>\n",
       "      <td>5.6</td>\n",
       "      <td>2007</td>\n",
       "    </tr>\n",
       "    <tr>\n",
       "      <th>7818</th>\n",
       "      <td>46169</td>\n",
       "      <td>0.019669</td>\n",
       "      <td>0</td>\n",
       "      <td>0</td>\n",
       "      <td>Twitches Too</td>\n",
       "      <td>Stuart Gillard</td>\n",
       "      <td>witch|sequel|missing father</td>\n",
       "      <td>Reunited witch twins Camryn and Alex adjust to...</td>\n",
       "      <td>83</td>\n",
       "      <td>Drama|Family|Fantasy|TV Movie</td>\n",
       "      <td>Walt Disney Studios Home Entertainment|Disney ...</td>\n",
       "      <td>10/12/07</td>\n",
       "      <td>29</td>\n",
       "      <td>4.9</td>\n",
       "      <td>2007</td>\n",
       "    </tr>\n",
       "    <tr>\n",
       "      <th>7819</th>\n",
       "      <td>12901</td>\n",
       "      <td>0.019101</td>\n",
       "      <td>2000000</td>\n",
       "      <td>1431623</td>\n",
       "      <td>No End in Sight</td>\n",
       "      <td>Charles Ferguson</td>\n",
       "      <td>white house|occupying power|independent film|c...</td>\n",
       "      <td>Chronological look at the fiasco in Iraq, espe...</td>\n",
       "      <td>102</td>\n",
       "      <td>Documentary</td>\n",
       "      <td>NaN</td>\n",
       "      <td>7/27/07</td>\n",
       "      <td>12</td>\n",
       "      <td>6.7</td>\n",
       "      <td>2007</td>\n",
       "    </tr>\n",
       "    <tr>\n",
       "      <th>7820</th>\n",
       "      <td>21623</td>\n",
       "      <td>0.017396</td>\n",
       "      <td>0</td>\n",
       "      <td>0</td>\n",
       "      <td>Beneath</td>\n",
       "      <td>Dagen Merrill</td>\n",
       "      <td>montana|buried alive|vision|teenager|blackouts</td>\n",
       "      <td>Christy (Zehetner) returns to her hometown yea...</td>\n",
       "      <td>82</td>\n",
       "      <td>Horror|Mystery|Thriller</td>\n",
       "      <td>MTV Films|Paramount Classics</td>\n",
       "      <td>7/8/07</td>\n",
       "      <td>14</td>\n",
       "      <td>5.0</td>\n",
       "      <td>2007</td>\n",
       "    </tr>\n",
       "    <tr>\n",
       "      <th>7821</th>\n",
       "      <td>39561</td>\n",
       "      <td>0.013017</td>\n",
       "      <td>1100000</td>\n",
       "      <td>0</td>\n",
       "      <td>Testosteron</td>\n",
       "      <td>Tomasz Konecki|Andrzej Saramonowicz</td>\n",
       "      <td>male nudity|father-son relationship|alcohol|be...</td>\n",
       "      <td>The wedding of Kornel, a young, well known TV ...</td>\n",
       "      <td>116</td>\n",
       "      <td>Comedy</td>\n",
       "      <td>Van Worden</td>\n",
       "      <td>3/2/07</td>\n",
       "      <td>10</td>\n",
       "      <td>6.0</td>\n",
       "      <td>2007</td>\n",
       "    </tr>\n",
       "    <tr>\n",
       "      <th>7822</th>\n",
       "      <td>36443</td>\n",
       "      <td>0.010471</td>\n",
       "      <td>200000</td>\n",
       "      <td>0</td>\n",
       "      <td>The Union: The Business Behind Getting High</td>\n",
       "      <td>Brett Harvey</td>\n",
       "      <td>NaN</td>\n",
       "      <td>Filmmaker Adam Scorgie explores the illegal ma...</td>\n",
       "      <td>104</td>\n",
       "      <td>Comedy|Documentary</td>\n",
       "      <td>NaN</td>\n",
       "      <td>5/8/07</td>\n",
       "      <td>14</td>\n",
       "      <td>6.8</td>\n",
       "      <td>2007</td>\n",
       "    </tr>\n",
       "    <tr>\n",
       "      <th>7823</th>\n",
       "      <td>19934</td>\n",
       "      <td>0.009512</td>\n",
       "      <td>0</td>\n",
       "      <td>0</td>\n",
       "      <td>Ce soir je dors chez toi</td>\n",
       "      <td>Olivier Baroux</td>\n",
       "      <td>NaN</td>\n",
       "      <td>Alex and Laetitia appear to make the perfect c...</td>\n",
       "      <td>84</td>\n",
       "      <td>Comedy</td>\n",
       "      <td>SPAD Films|KL Productions|Alter Films</td>\n",
       "      <td>11/21/07</td>\n",
       "      <td>12</td>\n",
       "      <td>5.3</td>\n",
       "      <td>2007</td>\n",
       "    </tr>\n",
       "    <tr>\n",
       "      <th>7824</th>\n",
       "      <td>15651</td>\n",
       "      <td>0.006681</td>\n",
       "      <td>0</td>\n",
       "      <td>312751</td>\n",
       "      <td>For the Bible Tells Me So</td>\n",
       "      <td>Daniel G. Karslake</td>\n",
       "      <td>bible|homosexuality|lesbian|religion</td>\n",
       "      <td>An exploration of the intersection between rel...</td>\n",
       "      <td>98</td>\n",
       "      <td>Documentary</td>\n",
       "      <td>NaN</td>\n",
       "      <td>10/5/07</td>\n",
       "      <td>10</td>\n",
       "      <td>6.1</td>\n",
       "      <td>2007</td>\n",
       "    </tr>\n",
       "  </tbody>\n",
       "</table>\n",
       "</div>"
      ],
      "text/plain": [
       "         id  popularity   budget  revenue  \\\n",
       "7815  21943    0.032904        0        0   \n",
       "7816  13068    0.027512        0        0   \n",
       "7817  15261    0.020514        0        0   \n",
       "7818  46169    0.019669        0        0   \n",
       "7819  12901    0.019101  2000000  1431623   \n",
       "7820  21623    0.017396        0        0   \n",
       "7821  39561    0.013017  1100000        0   \n",
       "7822  36443    0.010471   200000        0   \n",
       "7823  19934    0.009512        0        0   \n",
       "7824  15651    0.006681        0   312751   \n",
       "\n",
       "                                   original_title  \\\n",
       "7815                              Ho Voglia Di Te   \n",
       "7816                               Rocket Science   \n",
       "7817                 Bring It On: In It To Win It   \n",
       "7818                                 Twitches Too   \n",
       "7819                              No End in Sight   \n",
       "7820                                      Beneath   \n",
       "7821                                  Testosteron   \n",
       "7822  The Union: The Business Behind Getting High   \n",
       "7823                     Ce soir je dors chez toi   \n",
       "7824                    For the Bible Tells Me So   \n",
       "\n",
       "                                 director  \\\n",
       "7815                          Luis Prieto   \n",
       "7816                        Jeffrey Blitz   \n",
       "7817                           Steve Rash   \n",
       "7818                       Stuart Gillard   \n",
       "7819                     Charles Ferguson   \n",
       "7820                        Dagen Merrill   \n",
       "7821  Tomasz Konecki|Andrzej Saramonowicz   \n",
       "7822                         Brett Harvey   \n",
       "7823                       Olivier Baroux   \n",
       "7824                  Daniel G. Karslake    \n",
       "\n",
       "                                               keywords  \\\n",
       "7815                                                NaN   \n",
       "7816                                   independent film   \n",
       "7817  competition|cheerleader|sport|cheerleading|che...   \n",
       "7818                        witch|sequel|missing father   \n",
       "7819  white house|occupying power|independent film|c...   \n",
       "7820     montana|buried alive|vision|teenager|blackouts   \n",
       "7821  male nudity|father-son relationship|alcohol|be...   \n",
       "7822                                                NaN   \n",
       "7823                                                NaN   \n",
       "7824               bible|homosexuality|lesbian|religion   \n",
       "\n",
       "                                               overview  runtime  \\\n",
       "7815  The film stars Riccardo Scamarcio as a macho t...      106   \n",
       "7816  Hal, a 15-year-old high-school student with a ...      101   \n",
       "7817  Fourth 'Bring It On' movie is set at a cheerle...       90   \n",
       "7818  Reunited witch twins Camryn and Alex adjust to...       83   \n",
       "7819  Chronological look at the fiasco in Iraq, espe...      102   \n",
       "7820  Christy (Zehetner) returns to her hometown yea...       82   \n",
       "7821  The wedding of Kornel, a young, well known TV ...      116   \n",
       "7822  Filmmaker Adam Scorgie explores the illegal ma...      104   \n",
       "7823  Alex and Laetitia appear to make the perfect c...       84   \n",
       "7824  An exploration of the intersection between rel...       98   \n",
       "\n",
       "                             genres  \\\n",
       "7815                 Romance|Comedy   \n",
       "7816                   Comedy|Drama   \n",
       "7817                         Comedy   \n",
       "7818  Drama|Family|Fantasy|TV Movie   \n",
       "7819                    Documentary   \n",
       "7820        Horror|Mystery|Thriller   \n",
       "7821                         Comedy   \n",
       "7822             Comedy|Documentary   \n",
       "7823                         Comedy   \n",
       "7824                    Documentary   \n",
       "\n",
       "                                   production_companies release_date  \\\n",
       "7815                                                NaN       3/9/07   \n",
       "7816  HBO Films|W B I Films|Rocket Science Inc.|Duly...      1/19/07   \n",
       "7817           Universal Pictures|Beacon Communications     11/10/07   \n",
       "7818  Walt Disney Studios Home Entertainment|Disney ...     10/12/07   \n",
       "7819                                                NaN      7/27/07   \n",
       "7820                       MTV Films|Paramount Classics       7/8/07   \n",
       "7821                                         Van Worden       3/2/07   \n",
       "7822                                                NaN       5/8/07   \n",
       "7823              SPAD Films|KL Productions|Alter Films     11/21/07   \n",
       "7824                                                NaN      10/5/07   \n",
       "\n",
       "      vote_count  vote_average  release_year  \n",
       "7815          38           4.2          2007  \n",
       "7816          16           6.3          2007  \n",
       "7817          70           5.6          2007  \n",
       "7818          29           4.9          2007  \n",
       "7819          12           6.7          2007  \n",
       "7820          14           5.0          2007  \n",
       "7821          10           6.0          2007  \n",
       "7822          14           6.8          2007  \n",
       "7823          12           5.3          2007  \n",
       "7824          10           6.1          2007  "
      ]
     },
     "execution_count": 100,
     "metadata": {},
     "output_type": "execute_result"
    }
   ],
   "source": [
    "dir_df.tail(10)"
   ]
  },
  {
   "cell_type": "markdown",
   "id": "d26632a7",
   "metadata": {},
   "source": [
    "In this dataframe, we only need the director, original title, and release year column. So we proceed to drop the rest of the columns"
   ]
  },
  {
   "cell_type": "code",
   "execution_count": 101,
   "id": "ca956933",
   "metadata": {},
   "outputs": [
    {
     "data": {
      "text/plain": [
       "Index(['id', 'popularity', 'budget', 'revenue', 'original_title', 'director',\n",
       "       'keywords', 'overview', 'runtime', 'genres', 'production_companies',\n",
       "       'release_date', 'vote_count', 'vote_average', 'release_year'],\n",
       "      dtype='object')"
      ]
     },
     "execution_count": 101,
     "metadata": {},
     "output_type": "execute_result"
    }
   ],
   "source": [
    "dir_df.columns"
   ]
  },
  {
   "cell_type": "code",
   "execution_count": 103,
   "id": "429244c2",
   "metadata": {},
   "outputs": [],
   "source": [
    "dir_df = dir_df.drop(columns = ['id', 'popularity', 'budget', 'revenue',\n",
    "       'keywords', 'overview', 'runtime', 'genres', 'production_companies',\n",
    "       'release_date', 'vote_count', 'vote_average'])"
   ]
  },
  {
   "cell_type": "markdown",
   "id": "d5e1273c",
   "metadata": {},
   "source": [
    "Verify the dropped columns"
   ]
  },
  {
   "cell_type": "code",
   "execution_count": 104,
   "id": "dd00c794",
   "metadata": {
    "scrolled": false
   },
   "outputs": [
    {
     "data": {
      "text/html": [
       "<div>\n",
       "<style scoped>\n",
       "    .dataframe tbody tr th:only-of-type {\n",
       "        vertical-align: middle;\n",
       "    }\n",
       "\n",
       "    .dataframe tbody tr th {\n",
       "        vertical-align: top;\n",
       "    }\n",
       "\n",
       "    .dataframe thead th {\n",
       "        text-align: right;\n",
       "    }\n",
       "</style>\n",
       "<table border=\"1\" class=\"dataframe\">\n",
       "  <thead>\n",
       "    <tr style=\"text-align: right;\">\n",
       "      <th></th>\n",
       "      <th>original_title</th>\n",
       "      <th>director</th>\n",
       "      <th>release_year</th>\n",
       "    </tr>\n",
       "  </thead>\n",
       "  <tbody>\n",
       "    <tr>\n",
       "      <th>0</th>\n",
       "      <td>Jurassic World</td>\n",
       "      <td>Colin Trevorrow</td>\n",
       "      <td>2015</td>\n",
       "    </tr>\n",
       "    <tr>\n",
       "      <th>1</th>\n",
       "      <td>Mad Max: Fury Road</td>\n",
       "      <td>George Miller</td>\n",
       "      <td>2015</td>\n",
       "    </tr>\n",
       "    <tr>\n",
       "      <th>2</th>\n",
       "      <td>Insurgent</td>\n",
       "      <td>Robert Schwentke</td>\n",
       "      <td>2015</td>\n",
       "    </tr>\n",
       "  </tbody>\n",
       "</table>\n",
       "</div>"
      ],
      "text/plain": [
       "       original_title          director  release_year\n",
       "0      Jurassic World   Colin Trevorrow          2015\n",
       "1  Mad Max: Fury Road     George Miller          2015\n",
       "2           Insurgent  Robert Schwentke          2015"
      ]
     },
     "execution_count": 104,
     "metadata": {},
     "output_type": "execute_result"
    }
   ],
   "source": [
    "dir_df.head(3)"
   ]
  },
  {
   "cell_type": "markdown",
   "id": "8b836af3",
   "metadata": {},
   "source": [
    "Check for missing entries"
   ]
  },
  {
   "cell_type": "code",
   "execution_count": 105,
   "id": "1bf5a61a",
   "metadata": {
    "scrolled": false
   },
   "outputs": [
    {
     "name": "stdout",
     "output_type": "stream",
     "text": [
      "<class 'pandas.core.frame.DataFrame'>\n",
      "Int64Index: 5481 entries, 0 to 7824\n",
      "Data columns (total 3 columns):\n",
      " #   Column          Non-Null Count  Dtype \n",
      "---  ------          --------------  ----- \n",
      " 0   original_title  5481 non-null   object\n",
      " 1   director        5442 non-null   object\n",
      " 2   release_year    5481 non-null   int64 \n",
      "dtypes: int64(1), object(2)\n",
      "memory usage: 171.3+ KB\n"
     ]
    }
   ],
   "source": [
    "dir_df.info()"
   ]
  },
  {
   "cell_type": "markdown",
   "id": "3f288662",
   "metadata": {},
   "source": [
    "Now we see that director has 39 missing entries because it is not equal to the total entries. In this case, we remove the rows with the missing entries"
   ]
  },
  {
   "cell_type": "code",
   "execution_count": 113,
   "id": "58077190",
   "metadata": {},
   "outputs": [],
   "source": [
    "dir_df = dir_df.dropna()"
   ]
  },
  {
   "cell_type": "markdown",
   "id": "f1e5657d",
   "metadata": {},
   "source": [
    "We now verify if there are still missing entries"
   ]
  },
  {
   "cell_type": "code",
   "execution_count": 114,
   "id": "d9f6ac6d",
   "metadata": {
    "scrolled": false
   },
   "outputs": [
    {
     "name": "stdout",
     "output_type": "stream",
     "text": [
      "<class 'pandas.core.frame.DataFrame'>\n",
      "Int64Index: 5806 entries, 0 to 7824\n",
      "Data columns (total 3 columns):\n",
      " #   Column          Non-Null Count  Dtype \n",
      "---  ------          --------------  ----- \n",
      " 0   original_title  5806 non-null   object\n",
      " 1   director        5806 non-null   object\n",
      " 2   release_year    5806 non-null   int64 \n",
      "dtypes: int64(1), object(2)\n",
      "memory usage: 181.4+ KB\n"
     ]
    }
   ],
   "source": [
    "dir_df.info()"
   ]
  },
  {
   "cell_type": "code",
   "execution_count": 129,
   "id": "ffb29e2d",
   "metadata": {
    "scrolled": true
   },
   "outputs": [
    {
     "data": {
      "text/plain": [
       "Tyler Perry          15\n",
       "Uwe Boll             15\n",
       "Steven Soderbergh    12\n",
       "Woody Allen          11\n",
       "Roel ReinÃ©           9\n",
       "Name: director, dtype: int64"
      ]
     },
     "execution_count": 129,
     "metadata": {},
     "output_type": "execute_result"
    }
   ],
   "source": [
    "dir_df['director'].value_counts()[:5]"
   ]
  },
  {
   "cell_type": "code",
   "execution_count": 329,
   "id": "98cf2310",
   "metadata": {},
   "outputs": [
    {
     "data": {
      "image/png": "[encoded data removed]",
      "text/plain": [
       "<Figure size 576x360 with 1 Axes>"
      ]
     },
     "metadata": {
      "needs_background": "light"
     },
     "output_type": "display_data"
    }
   ],
   "source": [
    "dir_df['director'].value_counts()[:5].plot(kind='barh',figsize=(8,5), title=\"Directors with the Most Movies In 10years\")\n",
    "plt.xlabel('Number of Movies')\n",
    "plt.ylabel('Directors')\n",
    "plt.show()"
   ]
  },
  {
   "cell_type": "markdown",
   "id": "d2fa93e7",
   "metadata": {},
   "source": [
    "According to the analysis. We can conclude that there are two directors with the most movies in a 10 year duration.\n",
    "\n",
    "Tyler Perry = 15 movies\n",
    "\n",
    "  Uwe Boll = 15 movies"
   ]
  },
  {
   "cell_type": "markdown",
   "id": "1ba7cf45",
   "metadata": {},
   "source": [
    "### Which directors have had the most profitable movies in the last 10years?"
   ]
  },
  {
   "cell_type": "markdown",
   "id": "8369b317",
   "metadata": {},
   "source": [
    "This research question is based on which producer has made the most profit based on the budget of the movie and the revenue incurred. This research question just like the previous one will focus on the most recent movies."
   ]
  },
  {
   "cell_type": "markdown",
   "id": "7363c91e",
   "metadata": {},
   "source": [
    "First off we create a new column with the profit made, by substracting the budget from the revenue"
   ]
  },
  {
   "cell_type": "code",
   "execution_count": 243,
   "id": "299cbe76",
   "metadata": {},
   "outputs": [],
   "source": [
    "## I would like to remove the scientific notation so that the amounts can show fully when examining the properties.\n",
    "pd.set_option('display.float_format', lambda x: '%.9f' %x)"
   ]
  },
  {
   "cell_type": "code",
   "execution_count": 200,
   "id": "23ab4550",
   "metadata": {},
   "outputs": [
    {
     "data": {
      "text/html": [
       "<div>\n",
       "<style scoped>\n",
       "    .dataframe tbody tr th:only-of-type {\n",
       "        vertical-align: middle;\n",
       "    }\n",
       "\n",
       "    .dataframe tbody tr th {\n",
       "        vertical-align: top;\n",
       "    }\n",
       "\n",
       "    .dataframe thead th {\n",
       "        text-align: right;\n",
       "    }\n",
       "</style>\n",
       "<table border=\"1\" class=\"dataframe\">\n",
       "  <thead>\n",
       "    <tr style=\"text-align: right;\">\n",
       "      <th></th>\n",
       "      <th>id</th>\n",
       "      <th>popularity</th>\n",
       "      <th>budget</th>\n",
       "      <th>revenue</th>\n",
       "      <th>original_title</th>\n",
       "      <th>director</th>\n",
       "      <th>keywords</th>\n",
       "      <th>overview</th>\n",
       "      <th>runtime</th>\n",
       "      <th>genres</th>\n",
       "      <th>production_companies</th>\n",
       "      <th>release_date</th>\n",
       "      <th>vote_count</th>\n",
       "      <th>vote_average</th>\n",
       "      <th>release_year</th>\n",
       "    </tr>\n",
       "  </thead>\n",
       "  <tbody>\n",
       "    <tr>\n",
       "      <th>0</th>\n",
       "      <td>135397</td>\n",
       "      <td>32.985763</td>\n",
       "      <td>150000000</td>\n",
       "      <td>1513528810</td>\n",
       "      <td>Jurassic World</td>\n",
       "      <td>Colin Trevorrow</td>\n",
       "      <td>monster|dna|tyrannosaurus rex|velociraptor|island</td>\n",
       "      <td>Twenty-two years after the events of Jurassic ...</td>\n",
       "      <td>124</td>\n",
       "      <td>Action|Adventure|Science Fiction|Thriller</td>\n",
       "      <td>Universal Studios|Amblin Entertainment|Legenda...</td>\n",
       "      <td>6/9/15</td>\n",
       "      <td>5562</td>\n",
       "      <td>6.5</td>\n",
       "      <td>2015</td>\n",
       "    </tr>\n",
       "    <tr>\n",
       "      <th>1</th>\n",
       "      <td>76341</td>\n",
       "      <td>28.419936</td>\n",
       "      <td>150000000</td>\n",
       "      <td>378436354</td>\n",
       "      <td>Mad Max: Fury Road</td>\n",
       "      <td>George Miller</td>\n",
       "      <td>future|chase|post-apocalyptic|dystopia|australia</td>\n",
       "      <td>An apocalyptic story set in the furthest reach...</td>\n",
       "      <td>120</td>\n",
       "      <td>Action|Adventure|Science Fiction|Thriller</td>\n",
       "      <td>Village Roadshow Pictures|Kennedy Miller Produ...</td>\n",
       "      <td>5/13/15</td>\n",
       "      <td>6185</td>\n",
       "      <td>7.1</td>\n",
       "      <td>2015</td>\n",
       "    </tr>\n",
       "  </tbody>\n",
       "</table>\n",
       "</div>"
      ],
      "text/plain": [
       "       id  popularity     budget     revenue      original_title  \\\n",
       "0  135397   32.985763  150000000  1513528810      Jurassic World   \n",
       "1   76341   28.419936  150000000   378436354  Mad Max: Fury Road   \n",
       "\n",
       "          director                                           keywords  \\\n",
       "0  Colin Trevorrow  monster|dna|tyrannosaurus rex|velociraptor|island   \n",
       "1    George Miller   future|chase|post-apocalyptic|dystopia|australia   \n",
       "\n",
       "                                            overview  runtime  \\\n",
       "0  Twenty-two years after the events of Jurassic ...      124   \n",
       "1  An apocalyptic story set in the furthest reach...      120   \n",
       "\n",
       "                                      genres  \\\n",
       "0  Action|Adventure|Science Fiction|Thriller   \n",
       "1  Action|Adventure|Science Fiction|Thriller   \n",
       "\n",
       "                                production_companies release_date  vote_count  \\\n",
       "0  Universal Studios|Amblin Entertainment|Legenda...       6/9/15        5562   \n",
       "1  Village Roadshow Pictures|Kennedy Miller Produ...      5/13/15        6185   \n",
       "\n",
       "   vote_average  release_year  \n",
       "0           6.5          2015  \n",
       "1           7.1          2015  "
      ]
     },
     "execution_count": 200,
     "metadata": {},
     "output_type": "execute_result"
    }
   ],
   "source": [
    "df.head(2)"
   ]
  },
  {
   "cell_type": "code",
   "execution_count": 201,
   "id": "15feb986",
   "metadata": {},
   "outputs": [],
   "source": [
    "df['profit_made']= (df['revenue'] - df['budget'])"
   ]
  },
  {
   "cell_type": "markdown",
   "id": "08548832",
   "metadata": {},
   "source": [
    "Confirm if the new column is added"
   ]
  },
  {
   "cell_type": "code",
   "execution_count": 203,
   "id": "167c7c46",
   "metadata": {
    "scrolled": false
   },
   "outputs": [
    {
     "data": {
      "text/html": [
       "<div>\n",
       "<style scoped>\n",
       "    .dataframe tbody tr th:only-of-type {\n",
       "        vertical-align: middle;\n",
       "    }\n",
       "\n",
       "    .dataframe tbody tr th {\n",
       "        vertical-align: top;\n",
       "    }\n",
       "\n",
       "    .dataframe thead th {\n",
       "        text-align: right;\n",
       "    }\n",
       "</style>\n",
       "<table border=\"1\" class=\"dataframe\">\n",
       "  <thead>\n",
       "    <tr style=\"text-align: right;\">\n",
       "      <th></th>\n",
       "      <th>id</th>\n",
       "      <th>popularity</th>\n",
       "      <th>budget</th>\n",
       "      <th>revenue</th>\n",
       "      <th>original_title</th>\n",
       "      <th>director</th>\n",
       "      <th>keywords</th>\n",
       "      <th>overview</th>\n",
       "      <th>runtime</th>\n",
       "      <th>genres</th>\n",
       "      <th>production_companies</th>\n",
       "      <th>release_date</th>\n",
       "      <th>vote_count</th>\n",
       "      <th>vote_average</th>\n",
       "      <th>release_year</th>\n",
       "      <th>profit_made</th>\n",
       "    </tr>\n",
       "  </thead>\n",
       "  <tbody>\n",
       "    <tr>\n",
       "      <th>0</th>\n",
       "      <td>135397</td>\n",
       "      <td>32.985763</td>\n",
       "      <td>150000000</td>\n",
       "      <td>1513528810</td>\n",
       "      <td>Jurassic World</td>\n",
       "      <td>Colin Trevorrow</td>\n",
       "      <td>monster|dna|tyrannosaurus rex|velociraptor|island</td>\n",
       "      <td>Twenty-two years after the events of Jurassic ...</td>\n",
       "      <td>124</td>\n",
       "      <td>Action|Adventure|Science Fiction|Thriller</td>\n",
       "      <td>Universal Studios|Amblin Entertainment|Legenda...</td>\n",
       "      <td>6/9/15</td>\n",
       "      <td>5562</td>\n",
       "      <td>6.5</td>\n",
       "      <td>2015</td>\n",
       "      <td>1363528810</td>\n",
       "    </tr>\n",
       "    <tr>\n",
       "      <th>1</th>\n",
       "      <td>76341</td>\n",
       "      <td>28.419936</td>\n",
       "      <td>150000000</td>\n",
       "      <td>378436354</td>\n",
       "      <td>Mad Max: Fury Road</td>\n",
       "      <td>George Miller</td>\n",
       "      <td>future|chase|post-apocalyptic|dystopia|australia</td>\n",
       "      <td>An apocalyptic story set in the furthest reach...</td>\n",
       "      <td>120</td>\n",
       "      <td>Action|Adventure|Science Fiction|Thriller</td>\n",
       "      <td>Village Roadshow Pictures|Kennedy Miller Produ...</td>\n",
       "      <td>5/13/15</td>\n",
       "      <td>6185</td>\n",
       "      <td>7.1</td>\n",
       "      <td>2015</td>\n",
       "      <td>228436354</td>\n",
       "    </tr>\n",
       "  </tbody>\n",
       "</table>\n",
       "</div>"
      ],
      "text/plain": [
       "       id  popularity     budget     revenue      original_title  \\\n",
       "0  135397   32.985763  150000000  1513528810      Jurassic World   \n",
       "1   76341   28.419936  150000000   378436354  Mad Max: Fury Road   \n",
       "\n",
       "          director                                           keywords  \\\n",
       "0  Colin Trevorrow  monster|dna|tyrannosaurus rex|velociraptor|island   \n",
       "1    George Miller   future|chase|post-apocalyptic|dystopia|australia   \n",
       "\n",
       "                                            overview  runtime  \\\n",
       "0  Twenty-two years after the events of Jurassic ...      124   \n",
       "1  An apocalyptic story set in the furthest reach...      120   \n",
       "\n",
       "                                      genres  \\\n",
       "0  Action|Adventure|Science Fiction|Thriller   \n",
       "1  Action|Adventure|Science Fiction|Thriller   \n",
       "\n",
       "                                production_companies release_date  vote_count  \\\n",
       "0  Universal Studios|Amblin Entertainment|Legenda...       6/9/15        5562   \n",
       "1  Village Roadshow Pictures|Kennedy Miller Produ...      5/13/15        6185   \n",
       "\n",
       "   vote_average  release_year  profit_made  \n",
       "0           6.5          2015   1363528810  \n",
       "1           7.1          2015    228436354  "
      ]
     },
     "execution_count": 203,
     "metadata": {},
     "output_type": "execute_result"
    }
   ],
   "source": [
    "df.head(2)"
   ]
  },
  {
   "cell_type": "markdown",
   "id": "bde3b047",
   "metadata": {},
   "source": [
    "Now we filter the columns using a query to get the last 10 years we need for this analysis into a new dataframe.\n",
    "\n",
    "\n",
    "We will need to drop every other columns after leaving only these columns. ['director', 'original_title', 'release_year', 'profit_made']"
   ]
  },
  {
   "cell_type": "code",
   "execution_count": 206,
   "id": "0820d90f",
   "metadata": {},
   "outputs": [],
   "source": [
    "profit_df = df.query('release_year > 2005')"
   ]
  },
  {
   "cell_type": "code",
   "execution_count": 208,
   "id": "d3a6740b",
   "metadata": {
    "scrolled": true
   },
   "outputs": [
    {
     "data": {
      "text/plain": [
       "10"
      ]
     },
     "execution_count": 208,
     "metadata": {},
     "output_type": "execute_result"
    }
   ],
   "source": [
    "## To verify\n",
    "profit_df.release_year.nunique()"
   ]
  },
  {
   "cell_type": "code",
   "execution_count": 209,
   "id": "567d7ae4",
   "metadata": {},
   "outputs": [],
   "source": [
    "### dropping every other column\n",
    "profit_df = profit_df.drop(columns = ['id', 'popularity','keywords', 'overview', 'runtime', 'genres','budget', 'revenue', 'production_companies',\n",
    "       'release_date', 'vote_count', 'vote_average'])"
   ]
  },
  {
   "cell_type": "code",
   "execution_count": 217,
   "id": "4a916094",
   "metadata": {},
   "outputs": [
    {
     "data": {
      "text/plain": [
       "Index(['original_title', 'director', 'release_year', 'profit_made'], dtype='object')"
      ]
     },
     "execution_count": 217,
     "metadata": {},
     "output_type": "execute_result"
    }
   ],
   "source": [
    "## verify drop columns\n",
    "profit_df.columns"
   ]
  },
  {
   "cell_type": "code",
   "execution_count": 218,
   "id": "5c731fd4",
   "metadata": {
    "scrolled": false
   },
   "outputs": [
    {
     "data": {
      "text/plain": [
       "original_title     0\n",
       "director          39\n",
       "release_year       0\n",
       "profit_made        0\n",
       "dtype: int64"
      ]
     },
     "execution_count": 218,
     "metadata": {},
     "output_type": "execute_result"
    }
   ],
   "source": [
    "#   types and look for instances of missing or possibly errant data\n",
    "profit_df.isnull().sum()"
   ]
  },
  {
   "cell_type": "markdown",
   "id": "2f6513cd",
   "metadata": {},
   "source": [
    "We can see that the 'director' column has 39 null rows. That will not be appropriate with our analysis. Therefore, We will drop the null rows in 'director' column."
   ]
  },
  {
   "cell_type": "code",
   "execution_count": 219,
   "id": "3d343eec",
   "metadata": {},
   "outputs": [],
   "source": [
    "profit_df = profit_df.dropna()"
   ]
  },
  {
   "cell_type": "markdown",
   "id": "1fd1828a",
   "metadata": {},
   "source": [
    "Lets verify the null columns"
   ]
  },
  {
   "cell_type": "code",
   "execution_count": 220,
   "id": "10b5fed1",
   "metadata": {},
   "outputs": [
    {
     "data": {
      "text/plain": [
       "original_title    0\n",
       "director          0\n",
       "release_year      0\n",
       "profit_made       0\n",
       "dtype: int64"
      ]
     },
     "execution_count": 220,
     "metadata": {},
     "output_type": "execute_result"
    }
   ],
   "source": [
    "profit_df.isnull().sum()"
   ]
  },
  {
   "cell_type": "code",
   "execution_count": 222,
   "id": "0883da9e",
   "metadata": {
    "scrolled": true
   },
   "outputs": [
    {
     "data": {
      "text/html": [
       "<div>\n",
       "<style scoped>\n",
       "    .dataframe tbody tr th:only-of-type {\n",
       "        vertical-align: middle;\n",
       "    }\n",
       "\n",
       "    .dataframe tbody tr th {\n",
       "        vertical-align: top;\n",
       "    }\n",
       "\n",
       "    .dataframe thead th {\n",
       "        text-align: right;\n",
       "    }\n",
       "</style>\n",
       "<table border=\"1\" class=\"dataframe\">\n",
       "  <thead>\n",
       "    <tr style=\"text-align: right;\">\n",
       "      <th></th>\n",
       "      <th>original_title</th>\n",
       "      <th>director</th>\n",
       "      <th>release_year</th>\n",
       "      <th>profit_made</th>\n",
       "    </tr>\n",
       "  </thead>\n",
       "  <tbody>\n",
       "    <tr>\n",
       "      <th>0</th>\n",
       "      <td>Jurassic World</td>\n",
       "      <td>Colin Trevorrow</td>\n",
       "      <td>2015</td>\n",
       "      <td>1363528810</td>\n",
       "    </tr>\n",
       "    <tr>\n",
       "      <th>1</th>\n",
       "      <td>Mad Max: Fury Road</td>\n",
       "      <td>George Miller</td>\n",
       "      <td>2015</td>\n",
       "      <td>228436354</td>\n",
       "    </tr>\n",
       "    <tr>\n",
       "      <th>2</th>\n",
       "      <td>Insurgent</td>\n",
       "      <td>Robert Schwentke</td>\n",
       "      <td>2015</td>\n",
       "      <td>185238201</td>\n",
       "    </tr>\n",
       "    <tr>\n",
       "      <th>3</th>\n",
       "      <td>Star Wars: The Force Awakens</td>\n",
       "      <td>J.J. Abrams</td>\n",
       "      <td>2015</td>\n",
       "      <td>1868178225</td>\n",
       "    </tr>\n",
       "  </tbody>\n",
       "</table>\n",
       "</div>"
      ],
      "text/plain": [
       "                 original_title          director  release_year  profit_made\n",
       "0                Jurassic World   Colin Trevorrow          2015   1363528810\n",
       "1            Mad Max: Fury Road     George Miller          2015    228436354\n",
       "2                     Insurgent  Robert Schwentke          2015    185238201\n",
       "3  Star Wars: The Force Awakens       J.J. Abrams          2015   1868178225"
      ]
     },
     "execution_count": 222,
     "metadata": {},
     "output_type": "execute_result"
    }
   ],
   "source": [
    "profit_df.head(4)"
   ]
  },
  {
   "cell_type": "code",
   "execution_count": null,
   "id": "da87b27e",
   "metadata": {},
   "outputs": [],
   "source": [
    "#recalibreate the index\n",
    "profit_df.set_index('director',inplace=True)"
   ]
  },
  {
   "cell_type": "code",
   "execution_count": 244,
   "id": "4b32fa54",
   "metadata": {
    "scrolled": true
   },
   "outputs": [
    {
     "data": {
      "text/html": [
       "<div>\n",
       "<style scoped>\n",
       "    .dataframe tbody tr th:only-of-type {\n",
       "        vertical-align: middle;\n",
       "    }\n",
       "\n",
       "    .dataframe tbody tr th {\n",
       "        vertical-align: top;\n",
       "    }\n",
       "\n",
       "    .dataframe thead th {\n",
       "        text-align: right;\n",
       "    }\n",
       "</style>\n",
       "<table border=\"1\" class=\"dataframe\">\n",
       "  <thead>\n",
       "    <tr style=\"text-align: right;\">\n",
       "      <th></th>\n",
       "      <th>release_year</th>\n",
       "      <th>profit_made</th>\n",
       "    </tr>\n",
       "  </thead>\n",
       "  <tbody>\n",
       "    <tr>\n",
       "      <th>count</th>\n",
       "      <td>5442.000000000</td>\n",
       "      <td>5442.000000000</td>\n",
       "    </tr>\n",
       "    <tr>\n",
       "      <th>mean</th>\n",
       "      <td>2010.943954429</td>\n",
       "      <td>25849171.388092615</td>\n",
       "    </tr>\n",
       "    <tr>\n",
       "      <th>std</th>\n",
       "      <td>2.831411556</td>\n",
       "      <td>108310193.488097697</td>\n",
       "    </tr>\n",
       "    <tr>\n",
       "      <th>min</th>\n",
       "      <td>2006.000000000</td>\n",
       "      <td>-413912431.000000000</td>\n",
       "    </tr>\n",
       "    <tr>\n",
       "      <th>25%</th>\n",
       "      <td>2009.000000000</td>\n",
       "      <td>0.000000000</td>\n",
       "    </tr>\n",
       "    <tr>\n",
       "      <th>50%</th>\n",
       "      <td>2011.000000000</td>\n",
       "      <td>0.000000000</td>\n",
       "    </tr>\n",
       "    <tr>\n",
       "      <th>75%</th>\n",
       "      <td>2013.000000000</td>\n",
       "      <td>1554617.250000000</td>\n",
       "    </tr>\n",
       "    <tr>\n",
       "      <th>max</th>\n",
       "      <td>2015.000000000</td>\n",
       "      <td>2544505847.000000000</td>\n",
       "    </tr>\n",
       "  </tbody>\n",
       "</table>\n",
       "</div>"
      ],
      "text/plain": [
       "        release_year          profit_made\n",
       "count 5442.000000000       5442.000000000\n",
       "mean  2010.943954429   25849171.388092615\n",
       "std      2.831411556  108310193.488097697\n",
       "min   2006.000000000 -413912431.000000000\n",
       "25%   2009.000000000          0.000000000\n",
       "50%   2011.000000000          0.000000000\n",
       "75%   2013.000000000    1554617.250000000\n",
       "max   2015.000000000 2544505847.000000000"
      ]
     },
     "execution_count": 244,
     "metadata": {},
     "output_type": "execute_result"
    }
   ],
   "source": [
    "profit_df.describe()"
   ]
  },
  {
   "cell_type": "markdown",
   "id": "299212eb",
   "metadata": {},
   "source": [
    "We can see from the properties that the highest profit is from  "
   ]
  },
  {
   "cell_type": "code",
   "execution_count": 331,
   "id": "7e36553e",
   "metadata": {},
   "outputs": [
    {
     "data": {
      "text/html": [
       "<div>\n",
       "<style scoped>\n",
       "    .dataframe tbody tr th:only-of-type {\n",
       "        vertical-align: middle;\n",
       "    }\n",
       "\n",
       "    .dataframe tbody tr th {\n",
       "        vertical-align: top;\n",
       "    }\n",
       "\n",
       "    .dataframe thead th {\n",
       "        text-align: right;\n",
       "    }\n",
       "</style>\n",
       "<table border=\"1\" class=\"dataframe\">\n",
       "  <thead>\n",
       "    <tr style=\"text-align: right;\">\n",
       "      <th></th>\n",
       "      <th>original_title</th>\n",
       "      <th>release_year</th>\n",
       "      <th>profit_made</th>\n",
       "    </tr>\n",
       "    <tr>\n",
       "      <th>director</th>\n",
       "      <th></th>\n",
       "      <th></th>\n",
       "      <th></th>\n",
       "    </tr>\n",
       "  </thead>\n",
       "  <tbody>\n",
       "    <tr>\n",
       "      <th>James Cameron</th>\n",
       "      <td>Avatar</td>\n",
       "      <td>2009</td>\n",
       "      <td>2544505847</td>\n",
       "    </tr>\n",
       "    <tr>\n",
       "      <th>J.J. Abrams</th>\n",
       "      <td>Star Wars: The Force Awakens</td>\n",
       "      <td>2015</td>\n",
       "      <td>1868178225</td>\n",
       "    </tr>\n",
       "    <tr>\n",
       "      <th>Colin Trevorrow</th>\n",
       "      <td>Jurassic World</td>\n",
       "      <td>2015</td>\n",
       "      <td>1363528810</td>\n",
       "    </tr>\n",
       "    <tr>\n",
       "      <th>James Wan</th>\n",
       "      <td>Furious 7</td>\n",
       "      <td>2015</td>\n",
       "      <td>1316249360</td>\n",
       "    </tr>\n",
       "    <tr>\n",
       "      <th>Joss Whedon</th>\n",
       "      <td>The Avengers</td>\n",
       "      <td>2012</td>\n",
       "      <td>1299557910</td>\n",
       "    </tr>\n",
       "    <tr>\n",
       "      <th>David Yates</th>\n",
       "      <td>Harry Potter and the Deathly Hallows: Part 2</td>\n",
       "      <td>2011</td>\n",
       "      <td>1202817822</td>\n",
       "    </tr>\n",
       "    <tr>\n",
       "      <th>Joss Whedon</th>\n",
       "      <td>Avengers: Age of Ultron</td>\n",
       "      <td>2015</td>\n",
       "      <td>1125035767</td>\n",
       "    </tr>\n",
       "    <tr>\n",
       "      <th>Chris Buck|Jennifer Lee</th>\n",
       "      <td>Frozen</td>\n",
       "      <td>2013</td>\n",
       "      <td>1124219009</td>\n",
       "    </tr>\n",
       "    <tr>\n",
       "      <th>Kyle Balda|Pierre Coffin</th>\n",
       "      <td>Minions</td>\n",
       "      <td>2015</td>\n",
       "      <td>1082730962</td>\n",
       "    </tr>\n",
       "    <tr>\n",
       "      <th>Shane Black</th>\n",
       "      <td>Iron Man 3</td>\n",
       "      <td>2013</td>\n",
       "      <td>1015439994</td>\n",
       "    </tr>\n",
       "  </tbody>\n",
       "</table>\n",
       "</div>"
      ],
      "text/plain": [
       "                                                        original_title  \\\n",
       "director                                                                 \n",
       "James Cameron                                                   Avatar   \n",
       "J.J. Abrams                               Star Wars: The Force Awakens   \n",
       "Colin Trevorrow                                         Jurassic World   \n",
       "James Wan                                                    Furious 7   \n",
       "Joss Whedon                                               The Avengers   \n",
       "David Yates               Harry Potter and the Deathly Hallows: Part 2   \n",
       "Joss Whedon                                    Avengers: Age of Ultron   \n",
       "Chris Buck|Jennifer Lee                                         Frozen   \n",
       "Kyle Balda|Pierre Coffin                                       Minions   \n",
       "Shane Black                                                 Iron Man 3   \n",
       "\n",
       "                          release_year  profit_made  \n",
       "director                                             \n",
       "James Cameron                     2009   2544505847  \n",
       "J.J. Abrams                       2015   1868178225  \n",
       "Colin Trevorrow                   2015   1363528810  \n",
       "James Wan                         2015   1316249360  \n",
       "Joss Whedon                       2012   1299557910  \n",
       "David Yates                       2011   1202817822  \n",
       "Joss Whedon                       2015   1125035767  \n",
       "Chris Buck|Jennifer Lee           2013   1124219009  \n",
       "Kyle Balda|Pierre Coffin          2015   1082730962  \n",
       "Shane Black                       2013   1015439994  "
      ]
     },
     "execution_count": 331,
     "metadata": {},
     "output_type": "execute_result"
    }
   ],
   "source": [
    "profit_df.sort_values('profit_made', ascending=False).head(10)"
   ]
  },
  {
   "cell_type": "code",
   "execution_count": 326,
   "id": "6504391d",
   "metadata": {},
   "outputs": [
    {
     "data": {
      "image/png": "[encoded data removed]",
      "text/plain": [
       "<Figure size 720x576 with 1 Axes>"
      ]
     },
     "metadata": {
      "needs_background": "light"
     },
     "output_type": "display_data"
    }
   ],
   "source": [
    "profit_df.sort_values('profit_made', ascending=False).head(10).plot(kind='barh', figsize=(10,8), title=\"Directors with the Most Profitable Movie In the Last 10years\")\n",
    "plt.xlabel('Profit Made')\n",
    "plt.ylabel('Directors')\n",
    "plt.show()"
   ]
  },
  {
   "cell_type": "markdown",
   "id": "d352262c",
   "metadata": {},
   "source": [
    "<a id='conclusions'></a>\n",
    "## Conclusions and Limitation\n",
    "\n",
    "From the analysis carried out on this dataset, we made some interesting findings based on the research questions we devised. I encountered some difficulty and errors but made use of https://stackoverflow.com for clarifications and code corrections.\n",
    "\n",
    "\n",
    "1. What year has the most amount of occurrences\n",
    "This research question was made to determine the years that had the most movie released, or it can also be said to determine that the years that directors just wanted to shine. Anyway you put it, we came up with the top 5 years from the total of 56 years with the most occurrences in this dataset. And all of the years were in the 21st century. Hurray for evolution!\n",
    "\n",
    "    i. 2014 was the year with the most occurrences, it occurred 700 times.\n",
    "\n",
    "    ii. Coming in second is 2013 with 659 occurrences.\n",
    "\n",
    "    iii. Then 2015 with 629 occurrences.\n",
    "\n",
    "    iv. 2012 with 588 occurrences.\n",
    "\n",
    "    v. 2011 with 540 occurrences.\n",
    "\n",
    "\n",
    "\n",
    "\n",
    "2. What genre of movie has the longest runtime?\n",
    "This question is a very interesting one as we want to figure out, which genre has the longest runtime in the whole 56years of movie production, and the answer that was realized was mind blowing. \n",
    "\n",
    "    i. Documentary was the longest, unrealistically long in my opinion. With a runtime of 900 minutes, which is 15hours. \n",
    "\n",
    "    ii. Then Science fiction came in really close with a run time of 877 minutes, which is 14hours and 6 minutes.\n",
    "    \n",
    "    \n",
    "    \n",
    "    \n",
    "\n",
    "3. Which director has the most movies in the last 10years?\n",
    "In this question we wanted to determine which producer had more movies in the last 10years, we can say that , the producer that had the most movies is more hardworking. After the analysis, we realized in the last 10 years there was a tie between \"Tyle Perr\" and \"Uwe Boll\" with 15 movies each. We can say they were the most hardworking directors.\n",
    "\n",
    "\n",
    "3. Which directors have had the most profitable movies in the last 10years?\n",
    "This research question focused on the profit made by directors in the last 10years and the directors that made the most profit. And we undoubtedly concluded from the analysis that;\n",
    "\n",
    "\n",
    "    i. James Cameron had the highest profitbwith the movie \"Avatar\" which was released in 2009\n",
    "    \n",
    "    ii. J.J Abrahams coming in second with his movie \"Star Wars: The Force Awakens\" which was released in 2015.\n",
    "    \n",
    "## Limitation\n",
    "\n",
    "Althogh the dataset presented a lot of movies with various columns describing the revenue, budget, directors, runtime and some others. It would have been more fun and insightful if movies of other countries were included in the dataset, or maybe they were included but there was no data signifying that. Then the 'production_country' column would have been included for us to make more accurate conclusions.\n",
    "\n",
    "\n"
   ]
  }
 ],
 "metadata": {
  "kernelspec": {
   "display_name": "alxenv",
   "language": "python",
   "name": "myenv"
  },
  "language_info": {
   "codemirror_mode": {
    "name": "ipython",
    "version": 3
   },
   "file_extension": ".py",
   "mimetype": "text/x-python",
   "name": "python",
   "nbconvert_exporter": "python",
   "pygments_lexer": "ipython3",
   "version": "3.10.4"
  }
 },
 "nbformat": 4,
 "nbformat_minor": 5
}
